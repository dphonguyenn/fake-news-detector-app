{
 "cells": [
  {
   "cell_type": "markdown",
   "id": "9eb14f39-af19-462b-92d6-4f6f18a5e3c5",
   "metadata": {},
   "source": [
    "<center><b><font size=\"+3\">FAKE NEWS DETECTION</font></b></center>"
   ]
  },
  {
   "cell_type": "markdown",
   "id": "986ff779-370f-42d5-bbe3-1e8ae40301e6",
   "metadata": {},
   "source": [
    "<center>\n",
    "    <img src=\"https://miro.medium.com/max/3840/1*CQaCf35n3pReVZ02iYK0Xg.jpeg\" width=\"1600\" height=\"600\" alt=\"cognitiveclass.ai logo\"  />\n",
    "</center>"
   ]
  },
  {
   "cell_type": "markdown",
   "id": "344837ef-3f77-4a68-ad12-40a370f9a3d9",
   "metadata": {},
   "source": [
    "# Thông tin thành viên và phân công nhiệm vụ"
   ]
  },
  {
   "cell_type": "markdown",
   "id": "08d0131e-7589-4050-ae54-a2077826a115",
   "metadata": {},
   "source": [
    "|MSSV    | HO TEN               | NHIEM VU    |\n",
    "|:-------|:---------------------|:-----------:|\n",
    "|19110102| Nguyễn Bùi Duy Phong | Tiền xử lí dữ liệu    |\n",
    "|19110136| Trần Văn Thiên       | Tiền xử lí dữ liệu    |\n",
    "|19110080| Phạm Văn      Hùng   | Mô hình hóa           |\n",
    "|19110133| Đỗ Trần Công Phương  | LogisticRegressionCV  |\n",
    "|19110133| Nguyễn Nhiêu Thịnh   | DecisionTreeClassifier|\n",
    "|19110133| Trần Duy Thống       | Design streamlit      |"
   ]
  },
  {
   "cell_type": "markdown",
   "id": "a5e2bf8b",
   "metadata": {
    "tags": []
   },
   "source": [
    "# Import các thư viện cần thiết"
   ]
  },
  {
   "cell_type": "code",
   "execution_count": 50,
   "id": "9d998d06",
   "metadata": {},
   "outputs": [],
   "source": [
    "import string\n",
    "import numpy as np\n",
    "import pandas as pd\n",
    "import seaborn as sns\n",
    "import matplotlib.pyplot as plt \n",
    "from sklearn.metrics import accuracy_score\n",
    "from sklearn.tree import DecisionTreeClassifier\n",
    "from sklearn.model_selection import cross_val_score\n",
    "from sklearn.model_selection import train_test_split\n",
    "from sklearn.linear_model import LogisticRegressionCV\n",
    "from sklearn.feature_extraction.text import CountVectorizer\n",
    "from sklearn.feature_extraction.text import TfidfVectorizer\n",
    "\n",
    "# Thư viện ngoài\n",
    "from pyvi import ViTokenizer "
   ]
  },
  {
   "cell_type": "markdown",
   "id": "f999d4b0-5088-4bda-9add-23075356470f",
   "metadata": {},
   "source": [
    "`pyvi` là thư viện ngoài. Em dùng để `Tokenizer` văn bản tiếng việt. Thầy cô chỉ cần cài bằng cách `pip install pyvi`. Thông tin chi tiết [tại đây](https://towardsdatascience.com/introduction-to-pyvi-python-vietnamese-nlp-toolkit-ff5124983dc2)"
   ]
  },
  {
   "cell_type": "markdown",
   "id": "8265155d-c0e6-44db-af45-84aa3090d8c2",
   "metadata": {},
   "source": [
    "# Nguồn dữ liệu"
   ]
  },
  {
   "cell_type": "markdown",
   "id": "36215975-fa24-49dc-9f7b-a02156b47b4e",
   "metadata": {},
   "source": [
    "File `vn_news_223_tdlfr.csv` được lấy từ [VNFD Dataset](https://github.com/thanhhocse96/vfnd-vietnamese-fake-news-datasets/blob/master/CSV/vn_news_223_tdlfr.csv)\n",
    "- Tập dữ liệu 223 record bản tin tiếng Việt, gồm 2 nhãn: 1 (tin giả) và 0 (tin thật) \n",
    "- Mô tả dữ liệu: file `vietnamese-stopwords.txt` được lấy từ [VNFD](https://github.com/thanhhocse96/vfnd-vietnamese-fake-news-datasets/tree/master/CSV)\n",
    "\n",
    "File `vietnamese-stopwords.txt` chứa các từ `stopword` được lấy từ [VNStopword](https://github.com/stopwords/vietnamese-stopwords/blob/master/vietnamese-stopwords.txt)"
   ]
  },
  {
   "cell_type": "markdown",
   "id": "f7652aec",
   "metadata": {},
   "source": [
    "# Tiền xử lý văn bản tiếng Việt"
   ]
  },
  {
   "cell_type": "markdown",
   "id": "52e858aa-64bb-4c6d-a9d9-9819d7d345fe",
   "metadata": {},
   "source": [
    "Dữ liệu được lấy từ file `vn_news_223_tdlfr.csv`"
   ]
  },
  {
   "cell_type": "code",
   "execution_count": 2,
   "id": "38ddc12e",
   "metadata": {},
   "outputs": [
    {
     "data": {
      "text/html": [
       "<div>\n",
       "<style scoped>\n",
       "    .dataframe tbody tr th:only-of-type {\n",
       "        vertical-align: middle;\n",
       "    }\n",
       "\n",
       "    .dataframe tbody tr th {\n",
       "        vertical-align: top;\n",
       "    }\n",
       "\n",
       "    .dataframe thead th {\n",
       "        text-align: right;\n",
       "    }\n",
       "</style>\n",
       "<table border=\"1\" class=\"dataframe\">\n",
       "  <thead>\n",
       "    <tr style=\"text-align: right;\">\n",
       "      <th></th>\n",
       "      <th>text</th>\n",
       "      <th>domain</th>\n",
       "      <th>label</th>\n",
       "    </tr>\n",
       "  </thead>\n",
       "  <tbody>\n",
       "    <tr>\n",
       "      <th>27</th>\n",
       "      <td>Rùa biển sa lưới ‘vươn cổ cúi lạy’, ông chủ bè...</td>\n",
       "      <td>thoibao.today</td>\n",
       "      <td>1</td>\n",
       "    </tr>\n",
       "    <tr>\n",
       "      <th>207</th>\n",
       "      <td>Federer đụng Djokovic ở bán kết Giải quần vợt ...</td>\n",
       "      <td>thethao.tuoitre.vn</td>\n",
       "      <td>0</td>\n",
       "    </tr>\n",
       "    <tr>\n",
       "      <th>218</th>\n",
       "      <td>“Siêu máy bay” A350 sẽ chở CĐV Việt Nam đi Mal...</td>\n",
       "      <td>dantri.com.vn</td>\n",
       "      <td>0</td>\n",
       "    </tr>\n",
       "    <tr>\n",
       "      <th>122</th>\n",
       "      <td>Bị cảnh báo giả, khách trên máy bay TP.HCM đi ...</td>\n",
       "      <td>tuoitre.vn</td>\n",
       "      <td>0</td>\n",
       "    </tr>\n",
       "    <tr>\n",
       "      <th>147</th>\n",
       "      <td>Ba du khách tử vong ở Đà Nẵng trúng chất độc ả...</td>\n",
       "      <td>vnexpress.net</td>\n",
       "      <td>0</td>\n",
       "    </tr>\n",
       "  </tbody>\n",
       "</table>\n",
       "</div>"
      ],
      "text/plain": [
       "                                                  text              domain  \\\n",
       "27   Rùa biển sa lưới ‘vươn cổ cúi lạy’, ông chủ bè...       thoibao.today   \n",
       "207  Federer đụng Djokovic ở bán kết Giải quần vợt ...  thethao.tuoitre.vn   \n",
       "218  “Siêu máy bay” A350 sẽ chở CĐV Việt Nam đi Mal...       dantri.com.vn   \n",
       "122  Bị cảnh báo giả, khách trên máy bay TP.HCM đi ...          tuoitre.vn   \n",
       "147  Ba du khách tử vong ở Đà Nẵng trúng chất độc ả...       vnexpress.net   \n",
       "\n",
       "     label  \n",
       "27       1  \n",
       "207      0  \n",
       "218      0  \n",
       "122      0  \n",
       "147      0  "
      ]
     },
     "execution_count": 2,
     "metadata": {},
     "output_type": "execute_result"
    }
   ],
   "source": [
    "news_df = pd.read_csv('vn_news_223_tdlfr.csv', encoding='utf-8')\n",
    "news_df.sample(5)"
   ]
  },
  {
   "cell_type": "markdown",
   "id": "783207fb",
   "metadata": {
    "tags": []
   },
   "source": [
    "## Dữ liệu có bị trùng lặp hay không? Nếu có thì loại bỏ chúng"
   ]
  },
  {
   "cell_type": "code",
   "execution_count": 3,
   "id": "43e46ae0",
   "metadata": {},
   "outputs": [
    {
     "data": {
      "text/plain": [
       "1"
      ]
     },
     "execution_count": 3,
     "metadata": {},
     "output_type": "execute_result"
    }
   ],
   "source": [
    "len(news_df) - len(news_df.drop_duplicates())"
   ]
  },
  {
   "cell_type": "markdown",
   "id": "643d42d5-4e72-4631-8029-4e3238b2024a",
   "metadata": {},
   "source": [
    "Vậy dữ liệu có 1 dòng bị trùng. Ta sẽ tiến hành loại bỏ nó."
   ]
  },
  {
   "cell_type": "code",
   "execution_count": 4,
   "id": "eca0d17b-b7ea-47b8-9bfc-fb5dc13c3794",
   "metadata": {},
   "outputs": [
    {
     "data": {
      "text/plain": [
       "(222, 3)"
      ]
     },
     "execution_count": 4,
     "metadata": {},
     "output_type": "execute_result"
    }
   ],
   "source": [
    "news_df = news_df.drop_duplicates()\n",
    "news_df.shape"
   ]
  },
  {
   "cell_type": "code",
   "execution_count": 5,
   "id": "cc9b4b74-c4c5-4b0e-880c-f171f4a185e3",
   "metadata": {},
   "outputs": [],
   "source": [
    "assert len(news_df) == len(news_df.drop_duplicates())"
   ]
  },
  {
   "cell_type": "markdown",
   "id": "65ae8428",
   "metadata": {
    "tags": []
   },
   "source": [
    "## Tiền xử lí cơ bản"
   ]
  },
  {
   "cell_type": "markdown",
   "id": "2aa95832",
   "metadata": {},
   "source": [
    "### Đọc file `vietnamese-stopwords.txt` để lưu 1 set các từ stopword"
   ]
  },
  {
   "cell_type": "code",
   "execution_count": 6,
   "id": "457cc49d",
   "metadata": {},
   "outputs": [],
   "source": [
    "stopword = open('./vietnamese-stopwords.txt', 'r',encoding='utf-8')\n",
    "stopword = set([i.rstrip() for i in stopword.readlines()])"
   ]
  },
  {
   "cell_type": "markdown",
   "id": "4946dd8a",
   "metadata": {},
   "source": [
    "### Hàm loại bỏ các dấu câu, lowercase và loại stopword"
   ]
  },
  {
   "cell_type": "markdown",
   "id": "f965d251-2036-40c7-a0b8-f786ae892a6f",
   "metadata": {},
   "source": [
    "- Trước tiên, em sẽ định nghĩa các kí hiệu `noise`.\n",
    "- Sau đó thay thế khoảng trắng giữa các stopword bằng dấu `_`. Lý do: vì khi tokenize chữ thì các cụm từ có dấu`_`  nối giữa các từ.\n",
    "- Tiếp theo, là các bước loại bỏ các kí hiệu `noise`, `tokenizer`,`lowercase` và loại bỏ `stopword` trong phần text\n",
    "- Cuối cùng, đó là thêm phần tên miền vào list `clean_test`"
   ]
  },
  {
   "cell_type": "code",
   "execution_count": 7,
   "id": "6818838c-c3c2-4bdc-a4db-21b69b5137fe",
   "metadata": {},
   "outputs": [
    {
     "data": {
      "text/plain": [
       "'!\"#$%&\\'()*+,-./:;<=>?@[\\\\]^_`{|}~\\n“”‘’'"
      ]
     },
     "execution_count": 7,
     "metadata": {},
     "output_type": "execute_result"
    }
   ],
   "source": [
    "puncs = string.punctuation + '\\n“”‘’'\n",
    "puncs"
   ]
  },
  {
   "cell_type": "code",
   "execution_count": 8,
   "id": "13dd0194-f7f8-477e-a3f5-5f2086849232",
   "metadata": {},
   "outputs": [
    {
     "data": {
      "text/plain": [
       "['nhìn_xuống', 'rày', 'cơn', 'cũng_nên', 'trả_trước']"
      ]
     },
     "execution_count": 8,
     "metadata": {},
     "output_type": "execute_result"
    }
   ],
   "source": [
    "stopword = pd.Series(list(stopword)).str.replace(' ', '_').to_list()\n",
    "stopword[:5]"
   ]
  },
  {
   "cell_type": "code",
   "execution_count": 9,
   "id": "3109aab6-2e67-49d8-8665-80db15055426",
   "metadata": {},
   "outputs": [
    {
     "data": {
      "text/plain": [
       "115    [55, tỷ, đồng, nâng_cấp, 8,5, km, đại_lộ, võ_v...\n",
       "10     [khẩn_cấp, hàng_loạt, trẻ_em, nhập_viện, ngộ_đ...\n",
       "129    [thu, lái, 2, phi_công, vietjet, sự_cố, máy_ba...\n",
       "213    [đòi, nợ, 60, triệu, ép, nạn_nhân, viết, giấy,...\n",
       "32     [đi, đêm, mẹ, tá_hoả, mặt, cắt, nát, kinh_dị, ...\n",
       "Name: text, dtype: object"
      ]
     },
     "execution_count": 9,
     "metadata": {},
     "output_type": "execute_result"
    }
   ],
   "source": [
    "def remove_stopword(x):\n",
    "     return [i.rstrip('_') for i in x if i not in stopword and i not in [',', '']]\n",
    "    \n",
    "clean_text = news_df['text'].replace(f'[{puncs}]', ',', regex=True).\\\n",
    "            apply(ViTokenizer.tokenize).str.lower().\\\n",
    "            str.split().apply(remove_stopword)\n",
    "\n",
    "clean_text.sample(5)"
   ]
  },
  {
   "cell_type": "code",
   "execution_count": 10,
   "id": "e1292531-d5ea-46ca-800a-6cc9892ed206",
   "metadata": {},
   "outputs": [
    {
     "data": {
      "text/html": [
       "<div>\n",
       "<style scoped>\n",
       "    .dataframe tbody tr th:only-of-type {\n",
       "        vertical-align: middle;\n",
       "    }\n",
       "\n",
       "    .dataframe tbody tr th {\n",
       "        vertical-align: top;\n",
       "    }\n",
       "\n",
       "    .dataframe thead th {\n",
       "        text-align: right;\n",
       "    }\n",
       "</style>\n",
       "<table border=\"1\" class=\"dataframe\">\n",
       "  <thead>\n",
       "    <tr style=\"text-align: right;\">\n",
       "      <th></th>\n",
       "      <th>text</th>\n",
       "      <th>domain</th>\n",
       "      <th>label</th>\n",
       "      <th>clean_text</th>\n",
       "    </tr>\n",
       "  </thead>\n",
       "  <tbody>\n",
       "    <tr>\n",
       "      <th>0</th>\n",
       "      <td>Thủ tướng Abe cúi đầu xin lỗi vì hành động phi...</td>\n",
       "      <td>binhluan.biz</td>\n",
       "      <td>1</td>\n",
       "      <td>thủ_tướng abe cúi đầu xin_lỗi hành_động phi th...</td>\n",
       "    </tr>\n",
       "    <tr>\n",
       "      <th>1</th>\n",
       "      <td>Thủ tướng Nhật cúi đầu xin lỗi vì tinh thần ph...</td>\n",
       "      <td>www.ipick.vn</td>\n",
       "      <td>1</td>\n",
       "      <td>thủ_tướng nhật cúi đầu xin_lỗi tinh_thần phi t...</td>\n",
       "    </tr>\n",
       "    <tr>\n",
       "      <th>2</th>\n",
       "      <td>Choáng! Cơ trưởng đeo khăn quàng quẩy banh nóc...</td>\n",
       "      <td>tintucqpvn.net</td>\n",
       "      <td>1</td>\n",
       "      <td>choáng cơ_trưởng đeo khăn_quàng quẩy banh sân_...</td>\n",
       "    </tr>\n",
       "    <tr>\n",
       "      <th>3</th>\n",
       "      <td>Chưa bao giờ nhạc Kpop lại dễ hát đến thế!!!\\n...</td>\n",
       "      <td>tintucqpvn.net</td>\n",
       "      <td>1</td>\n",
       "      <td>nhạc kpop hát giáo_sư nguyễn_lân dũng thành_đạ...</td>\n",
       "    </tr>\n",
       "    <tr>\n",
       "      <th>4</th>\n",
       "      <td>Đại học Hutech sẽ áp dụng cải cách \"Tiếq Việt\"...</td>\n",
       "      <td>www.gioitreviet.net</td>\n",
       "      <td>1</td>\n",
       "      <td>đại_học hutech áp_dụng cải_cách tiếq việt năm_...</td>\n",
       "    </tr>\n",
       "  </tbody>\n",
       "</table>\n",
       "</div>"
      ],
      "text/plain": [
       "                                                text               domain  \\\n",
       "0  Thủ tướng Abe cúi đầu xin lỗi vì hành động phi...         binhluan.biz   \n",
       "1  Thủ tướng Nhật cúi đầu xin lỗi vì tinh thần ph...         www.ipick.vn   \n",
       "2  Choáng! Cơ trưởng đeo khăn quàng quẩy banh nóc...       tintucqpvn.net   \n",
       "3  Chưa bao giờ nhạc Kpop lại dễ hát đến thế!!!\\n...       tintucqpvn.net   \n",
       "4  Đại học Hutech sẽ áp dụng cải cách \"Tiếq Việt\"...  www.gioitreviet.net   \n",
       "\n",
       "   label                                         clean_text  \n",
       "0      1  thủ_tướng abe cúi đầu xin_lỗi hành_động phi th...  \n",
       "1      1  thủ_tướng nhật cúi đầu xin_lỗi tinh_thần phi t...  \n",
       "2      1  choáng cơ_trưởng đeo khăn_quàng quẩy banh sân_...  \n",
       "3      1  nhạc kpop hát giáo_sư nguyễn_lân dũng thành_đạ...  \n",
       "4      1  đại_học hutech áp_dụng cải_cách tiếq việt năm_...  "
      ]
     },
     "execution_count": 10,
     "metadata": {},
     "output_type": "execute_result"
    }
   ],
   "source": [
    "news_df['clean_text'] = clean_text\n",
    "news_df['clean_text'] = news_df.apply(lambda x: ' '.join(x['clean_text']) + ' ' + x['domain'], axis=1)\n",
    "\n",
    "news_df.head(5)"
   ]
  },
  {
   "cell_type": "markdown",
   "id": "29774690-9f5e-460c-85ba-b946d1958839",
   "metadata": {},
   "source": [
    "# Khám phá dữ liệu"
   ]
  },
  {
   "cell_type": "markdown",
   "id": "d984dd64",
   "metadata": {
    "tags": []
   },
   "source": [
    "## Dữ liệu có bao nhiêu dòng cột?"
   ]
  },
  {
   "cell_type": "code",
   "execution_count": 11,
   "id": "8bb905be",
   "metadata": {},
   "outputs": [
    {
     "data": {
      "text/plain": [
       "(222, 4)"
      ]
     },
     "execution_count": 11,
     "metadata": {},
     "output_type": "execute_result"
    }
   ],
   "source": [
    "news_df.shape"
   ]
  },
  {
   "cell_type": "code",
   "execution_count": 12,
   "id": "a3d98d87-e2e0-4ef3-a900-46196fc91a3d",
   "metadata": {},
   "outputs": [
    {
     "name": "stdout",
     "output_type": "stream",
     "text": [
      "Vậy dữ liệu có 222 dòng và 4 cột.\n"
     ]
    }
   ],
   "source": [
    "print(f\"Vậy dữ liệu có {news_df.shape[0]} dòng và {news_df.shape[1]} cột.\")"
   ]
  },
  {
   "cell_type": "markdown",
   "id": "2cb557b2",
   "metadata": {},
   "source": [
    "## Dữ liệu có bị thiếu hay không?"
   ]
  },
  {
   "cell_type": "code",
   "execution_count": 13,
   "id": "15f08135",
   "metadata": {},
   "outputs": [
    {
     "data": {
      "text/plain": [
       "text          0\n",
       "domain        0\n",
       "label         0\n",
       "clean_text    0\n",
       "dtype: int64"
      ]
     },
     "execution_count": 13,
     "metadata": {},
     "output_type": "execute_result"
    }
   ],
   "source": [
    "news_df.isnull().sum()"
   ]
  },
  {
   "cell_type": "markdown",
   "id": "7158e498",
   "metadata": {},
   "source": [
    "## Các kiểu dữ liệu của các cột đã phù hợp hay chưa?"
   ]
  },
  {
   "cell_type": "code",
   "execution_count": 14,
   "id": "1dc84b33",
   "metadata": {},
   "outputs": [
    {
     "data": {
      "text/plain": [
       "text          object\n",
       "domain        object\n",
       "label          int64\n",
       "clean_text    object\n",
       "dtype: object"
      ]
     },
     "execution_count": 14,
     "metadata": {},
     "output_type": "execute_result"
    }
   ],
   "source": [
    "news_df.dtypes"
   ]
  },
  {
   "cell_type": "markdown",
   "id": "046a3b29",
   "metadata": {},
   "source": [
    "*Nhìn qua ta có thể thấy các cột dữ liệu đã có kiểu dữ liệu thích hợp. Tuy nhiên để chắc chắn hơn ta cần kiểm tra cột dữ liệu ở các cột `text`, `domain`, vì kiểu dữ liệu object có thể có nhiều kiểu dữ liệu khác nhau trong đó*"
   ]
  },
  {
   "cell_type": "code",
   "execution_count": 15,
   "id": "24278897",
   "metadata": {},
   "outputs": [],
   "source": [
    "def open_object_dtype(s):\n",
    "    dtypes = set()\n",
    "    s.apply(lambda x: dtypes.add(type(x)))\n",
    "    return dtypes"
   ]
  },
  {
   "cell_type": "code",
   "execution_count": 16,
   "id": "9768a4e9",
   "metadata": {},
   "outputs": [],
   "source": [
    "#TEST\n",
    "assert open_object_dtype(news_df['text']) == {str}\n",
    "assert open_object_dtype(news_df['domain']) == {str}"
   ]
  },
  {
   "cell_type": "markdown",
   "id": "8ffc2088",
   "metadata": {},
   "source": [
    "*Vậy là các cột dữ liệu thuộc kiểu object đều có dạng chuỗi, thỏa với mục đích cần tìm*"
   ]
  },
  {
   "cell_type": "markdown",
   "id": "78616662",
   "metadata": {},
   "source": [
    "## Các giá trị trong cột dữ liệu `label` có sự phân bố như thế nào?"
   ]
  },
  {
   "cell_type": "code",
   "execution_count": 17,
   "id": "4d8b894a-a3ed-4cb1-badd-2daa49d74907",
   "metadata": {},
   "outputs": [
    {
     "data": {
      "image/png": "[encoded data removed]",
      "text/plain": [
       "<Figure size 432x288 with 1 Axes>"
      ]
     },
     "metadata": {
      "needs_background": "light"
     },
     "output_type": "display_data"
    }
   ],
   "source": [
    "news_df['label'].value_counts().rename(index={0:'False', 1:'True'}).plot.barh();"
   ]
  },
  {
   "cell_type": "markdown",
   "id": "e331a6b0",
   "metadata": {},
   "source": [
    "## Sự phân bố của cột dữ liệu `domain`"
   ]
  },
  {
   "cell_type": "code",
   "execution_count": 18,
   "id": "c2e4f541",
   "metadata": {},
   "outputs": [
    {
     "data": {
      "image/png": "[encoded data removed]",
      "text/plain": [
       "<Figure size 720x360 with 1 Axes>"
      ]
     },
     "metadata": {
      "needs_background": "light"
     },
     "output_type": "display_data"
    }
   ],
   "source": [
    "top_ten_domain = news_df['domain'].value_counts()[:10]\n",
    "\n",
    "plt.figure(figsize=(10,5))\n",
    "sns.barplot(x=top_ten_domain.index, y=top_ten_domain.values, alpha=0.6)\n",
    "plt.title('Top 10 domains')\n",
    "plt.xlabel('Domain', fontsize=12)\n",
    "plt.xticks(rotation=45)\n",
    "plt.ylabel('Number of occurences', fontsize=12);"
   ]
  },
  {
   "cell_type": "markdown",
   "id": "35e8255a",
   "metadata": {},
   "source": [
    "## Khám phá cột dữ liệu `text`"
   ]
  },
  {
   "cell_type": "markdown",
   "id": "613c0c2c",
   "metadata": {},
   "source": [
    "- Thông tin thống kê của văn bản"
   ]
  },
  {
   "cell_type": "code",
   "execution_count": 19,
   "id": "3dd76be2",
   "metadata": {},
   "outputs": [
    {
     "data": {
      "text/plain": [
       "min                 309.0\n",
       "lower_quantile     1280.0\n",
       "median             1988.0\n",
       "upper_quantile     3285.0\n",
       "max               10019.0\n",
       "Name: text, dtype: float64"
      ]
     },
     "execution_count": 19,
     "metadata": {},
     "output_type": "execute_result"
    }
   ],
   "source": [
    "#Lấy các thông tin thống kê của văn bản \n",
    "text_col = news_df['text'].apply(lambda x: len(x))\n",
    "\n",
    "def lower_quantile(df):\n",
    "    return df.quantile(0.25).round()\n",
    "def median(df):\n",
    "    return df.quantile(0.5).round()\n",
    "def upper_quantile(df):\n",
    "    return df.quantile(0.75).round()\n",
    "\n",
    "text_col.agg(['min', lower_quantile, median, upper_quantile, 'max'])"
   ]
  },
  {
   "cell_type": "markdown",
   "id": "7d529cb0-7fd8-4bcd-87be-e7827f60a028",
   "metadata": {},
   "source": [
    "# Mô hình hóa"
   ]
  },
  {
   "cell_type": "markdown",
   "id": "42112ce5-c5bd-466e-9836-0900b53fa450",
   "metadata": {},
   "source": [
    "## Tokenize văn bản"
   ]
  },
  {
   "cell_type": "code",
   "execution_count": 20,
   "id": "117aeff9-c5f1-42f4-a213-140ec474040f",
   "metadata": {},
   "outputs": [],
   "source": [
    "train_data = TfidfVectorizer(lowercase=False).fit_transform(news_df['clean_text'])"
   ]
  },
  {
   "cell_type": "markdown",
   "id": "8853448a-0124-4efd-9a0f-55465d7b6df2",
   "metadata": {},
   "source": [
    "## Chia dữ liệu"
   ]
  },
  {
   "cell_type": "markdown",
   "id": "d544115e-da04-4cc8-a205-dd4b56197875",
   "metadata": {},
   "source": [
    "Ở phần này, nhóm em quyết định chia tập dữ liệu thành 3 phần:\n",
    "- Phần train chiếm 75%\n",
    "- Phần valid data chiếm 15%\n",
    "- Phần test chiếm 10%"
   ]
  },
  {
   "cell_type": "code",
   "execution_count": 21,
   "id": "e2536730-3eb0-4d32-9644-a9c0c78b7549",
   "metadata": {},
   "outputs": [],
   "source": [
    "train_ratio = 0.75\n",
    "validation_ratio = 0.15\n",
    "test_ratio = 0.10\n",
    "\n",
    "x_train, x_test, y_train, y_test = train_test_split(train_data, news_df.label, test_size=1 - train_ratio, random_state=42)\n",
    "\n",
    "x_val, x_test, y_val, y_test = train_test_split(x_test, y_test, test_size=test_ratio/(test_ratio + validation_ratio), random_state=42) "
   ]
  },
  {
   "cell_type": "markdown",
   "id": "7283bb72-6858-4695-b0d9-1880e9b99cbb",
   "metadata": {},
   "source": [
    "## Mô hình tuyến tính"
   ]
  },
  {
   "cell_type": "markdown",
   "id": "3a64e1bb-4af3-4ca3-a653-9df580dc577a",
   "metadata": {},
   "source": [
    "Với mô hình tuyến tính, em sử dụng bộ phân lớp `LogisticRegressionCV`"
   ]
  },
  {
   "cell_type": "markdown",
   "id": "50e846a4-945b-4df7-bc3d-f4dbc6990c9f",
   "metadata": {},
   "source": [
    "### Tìm mô hình tốt nhất"
   ]
  },
  {
   "cell_type": "code",
   "execution_count": 51,
   "id": "8d6ffd53-4b5b-4fc7-a7ac-52a345aaa284",
   "metadata": {},
   "outputs": [],
   "source": [
    "train_accs = []\n",
    "val_accs = []\n",
    "cvs = [5,6,7,8,9,10]\n",
    "solvers = ['newton-cg', 'lbfgs', 'liblinear', 'sag', 'saga']\n",
    "best_val_acc = 0\n",
    "best_cv = None\n",
    "best_solver = None\n",
    "\n",
    "for cv in cvs:\n",
    "    for solver in solvers:\n",
    "        lg_re = LogisticRegressionCV(Cs=20, cv=cv, solver=solver, max_iter=10000).fit(x_train, y_train)\n",
    "        val_accs.append(accuracy_score(lg_re.predict(x_val), y_val))\n",
    "        train_accs.append(accuracy_score(lg_re.predict(x_test), y_test))\n",
    "        \n",
    "best_val_acc = max(val_accs)\n",
    "index_best = val_accs.index(best_val_acc)\n",
    "best_cv = cvs[index_best // len(solvers)]\n",
    "best_solver = solvers[index_best % len(solvers)]"
   ]
  },
  {
   "cell_type": "code",
   "execution_count": 52,
   "id": "cc3dcf2c-eb58-4a7f-ab73-e268475c9ef9",
   "metadata": {},
   "outputs": [
    {
     "data": {
      "text/plain": [
       "LogisticRegressionCV(Cs=20, cv=5, max_iter=10000, solver='newton-cg')"
      ]
     },
     "execution_count": 52,
     "metadata": {},
     "output_type": "execute_result"
    }
   ],
   "source": [
    "lg_re.set_params(cv=best_cv, solver=best_solver).fit(x_train, y_train)"
   ]
  },
  {
   "cell_type": "code",
   "execution_count": 53,
   "id": "07082326-3c56-4d7b-ab41-ab0e1d7de908",
   "metadata": {},
   "outputs": [
    {
     "name": "stdout",
     "output_type": "stream",
     "text": [
      "Vậy các tham số tốt nhất với mô hình này tìm được là Cs=20, cv=5, max_iter=1000, solver=newton-cg\n"
     ]
    }
   ],
   "source": [
    "print(f\"Vậy các tham số tốt nhất với mô hình này tìm được là Cs=20, cv={best_cv}, max_iter=1000, solver={best_solver}\")"
   ]
  },
  {
   "cell_type": "code",
   "execution_count": 54,
   "id": "cee787eb-e00b-4a09-9ef1-b20afeb16191",
   "metadata": {},
   "outputs": [
    {
     "data": {
      "text/plain": [
       "0.9565217391304348"
      ]
     },
     "execution_count": 54,
     "metadata": {},
     "output_type": "execute_result"
    }
   ],
   "source": [
    "accuracy_score(y_true=y_test, y_pred=lg_re.predict(x_test))"
   ]
  },
  {
   "cell_type": "markdown",
   "id": "26ca7a70-4932-43a4-8532-5dff1126669c",
   "metadata": {},
   "source": [
    "**Nhận xét:** Tỉ lệ khớp với tập test khá cao."
   ]
  },
  {
   "cell_type": "markdown",
   "id": "b06c42cf-c7cb-48eb-b10b-270317ee6cf4",
   "metadata": {},
   "source": [
    "### Trực quan hóa kết quả"
   ]
  },
  {
   "cell_type": "code",
   "execution_count": 56,
   "id": "4d0b41d0-cbc8-4313-8e5d-d37b60eb6106",
   "metadata": {},
   "outputs": [
    {
     "data": {
      "image/png": "[encoded data removed]",
      "text/plain": [
       "<Figure size 720x360 with 2 Axes>"
      ]
     },
     "metadata": {
      "needs_background": "light"
     },
     "output_type": "display_data"
    }
   ],
   "source": [
    "# Trực quan hóa kết quả\n",
    "train_accs_df = pd.DataFrame(data=np.array(train_accs).reshape(len(cvs), -1),\n",
    "                             index=cvs, columns=solvers)\n",
    "val_accs_df = pd.DataFrame(\n",
    "    data=np.array(val_accs).reshape(len(cvs), -1), \n",
    "    index=cvs, columns=solvers)\n",
    "min_err = min(min(train_accs), min(val_accs))\n",
    "max_err = max(max(train_accs), max(val_accs))\n",
    "plt.figure(figsize=(10, 5))\n",
    "plt.subplot(1, 2, 1)\n",
    "sns.heatmap(train_accs_df, vmin=min_err, vmax=max_err, square=True, \n",
    "            annot=True, cbar=False, fmt='.2f', cmap='Reds')\n",
    "plt.title('train accuracies'); plt.xlabel('solver'); plt.ylabel('cv')\n",
    "plt.subplot(1, 2, 2)\n",
    "sns.heatmap(val_accs_df, vmin=min_err, vmax=max_err, square=True, \n",
    "            annot=True, cbar=False, fmt='.2f', cmap='Reds')\n",
    "plt.title('validation accuracies'); plt.xlabel('solver'); plt.ylabel('cv');"
   ]
  },
  {
   "cell_type": "markdown",
   "id": "f3aeda87-149c-45e5-9ef0-29d2ff4d9302",
   "metadata": {},
   "source": [
    "**Nhận xét:** tỉ lệ tập `train` và tập `valid` khá tương đồng nhau. Số `k-fold cross validation` càng nhiều, tỉ lệ chính xác càng giảm, kéo theo giảm bớt hiện tượng overfitting"
   ]
  },
  {
   "cell_type": "markdown",
   "id": "ab09ede7-ddfa-4785-8cfa-4f3699a0f90b",
   "metadata": {},
   "source": [
    "## Mô hình phi tuyến"
   ]
  },
  {
   "cell_type": "markdown",
   "id": "ced5c8fa-44e0-43bd-933c-1fb5c9ce8f1b",
   "metadata": {},
   "source": [
    "Với mô hìn này, em sử dụng bộ phân lớp `DecisionTreeClassifier`"
   ]
  },
  {
   "cell_type": "markdown",
   "id": "ae8725ee-636b-43a0-be4f-18473a5539e4",
   "metadata": {},
   "source": [
    "### Tìm mô hình tốt nhất"
   ]
  },
  {
   "cell_type": "code",
   "execution_count": 65,
   "id": "8a577f97-b976-48ad-8cff-d66e81801eef",
   "metadata": {},
   "outputs": [],
   "source": [
    "train_accs = []\n",
    "val_accs = []\n",
    "max_features = ['auto', 'sqrt', 'log2', None]\n",
    "max_leaf_nodes = [30, 100, 300, 1000]\n",
    "best_val_acc = 0\n",
    "best_features = None\n",
    "best_leaf_nodes = None\n",
    "\n",
    "for max_feature in max_features:\n",
    "    for max_leaf_node in max_leaf_nodes:\n",
    "        tree = DecisionTreeClassifier(random_state=42, max_features=max_feature, max_leaf_nodes=max_leaf_node).fit(x_train, y_train)\n",
    "        val_accs.append(accuracy_score(tree.predict(x_val), y_val))\n",
    "        train_accs.append(accuracy_score(tree.predict(x_train), y_train))\n",
    "\n",
    "best_val_acc = max(val_accs)\n",
    "index_best = val_accs.index(best_val_acc)\n",
    "best_features = max_features[index_best // len(max_leaf_nodes)]\n",
    "best_leaf_nodes = max_leaf_nodes[index_best % len(max_leaf_nodes)]"
   ]
  },
  {
   "cell_type": "code",
   "execution_count": 66,
   "id": "2c506b44-623c-491c-b41d-fe5f5317197e",
   "metadata": {},
   "outputs": [
    {
     "data": {
      "text/plain": [
       "DecisionTreeClassifier(max_leaf_nodes=30, random_state=42)"
      ]
     },
     "execution_count": 66,
     "metadata": {},
     "output_type": "execute_result"
    }
   ],
   "source": [
    "tree.set_params(random_state=42, max_features=best_features, max_leaf_nodes=best_leaf_nodes).fit(x_train, y_train)"
   ]
  },
  {
   "cell_type": "code",
   "execution_count": 73,
   "id": "9654e320-4a68-4317-8dd0-28b9c2ad9fa2",
   "metadata": {},
   "outputs": [
    {
     "name": "stdout",
     "output_type": "stream",
     "text": [
      "Vậy các tham số tốt nhất với mô hình này tìm được là random_state=42, max_features=None, max_leaf_nodes=30\n"
     ]
    }
   ],
   "source": [
    "print(f\"Vậy các tham số tốt nhất với mô hình này tìm được là random_state=42, max_features={best_features}, max_leaf_nodes={best_leaf_nodes}\")"
   ]
  },
  {
   "cell_type": "code",
   "execution_count": 67,
   "id": "e75034ea-beaa-4c05-9528-c46ecc643c3f",
   "metadata": {},
   "outputs": [
    {
     "data": {
      "text/plain": [
       "0.9130434782608695"
      ]
     },
     "execution_count": 67,
     "metadata": {},
     "output_type": "execute_result"
    }
   ],
   "source": [
    "accuracy_score(y_test, tree.predict(x_test))"
   ]
  },
  {
   "cell_type": "markdown",
   "id": "ad228121-40d7-4732-9486-f77ba59a65cf",
   "metadata": {},
   "source": [
    "### Trực quan hóa kết quả"
   ]
  },
  {
   "cell_type": "code",
   "execution_count": 69,
   "id": "32270976-226e-441e-aa96-610f44e51bc9",
   "metadata": {},
   "outputs": [
    {
     "data": {
      "image/png": "[encoded data removed]",
      "text/plain": [
       "<Figure size 720x360 with 2 Axes>"
      ]
     },
     "metadata": {
      "needs_background": "light"
     },
     "output_type": "display_data"
    }
   ],
   "source": [
    "# Trực quan hóa kết quả\n",
    "train_accs_df = pd.DataFrame(data=np.array(train_accs).reshape(len(max_features), -1),\n",
    "                             index=max_features, columns=max_leaf_nodes)\n",
    "val_accs_df = pd.DataFrame(\n",
    "    data=np.array(val_accs).reshape(len(max_features), -1), \n",
    "    index=max_features, columns=max_leaf_nodes)\n",
    "min_err = min(min(train_accs), min(val_accs))\n",
    "max_err = max(max(train_accs), max(val_accs))\n",
    "plt.figure(figsize=(10, 5))\n",
    "plt.subplot(1, 2, 1)\n",
    "sns.heatmap(train_accs_df, vmin=min_err, vmax=max_err, square=True, \n",
    "            annot=True, cbar=False, fmt='.2f', cmap='Reds')\n",
    "plt.title('train accuracies'); plt.xlabel('max_leaf_nodes'); plt.ylabel('max_features')\n",
    "plt.subplot(1, 2, 2)\n",
    "sns.heatmap(val_accs_df, vmin=min_err, vmax=max_err, square=True, \n",
    "            annot=True, cbar=False, fmt='.2f', cmap='Reds')\n",
    "plt.title('validation accuracies'); plt.xlabel('max_leaf_nodes'); plt.ylabel('max_features');"
   ]
  },
  {
   "cell_type": "markdown",
   "id": "4789a68e-d699-46b3-a339-a94fdb06e0c4",
   "metadata": {},
   "source": [
    "**Nhận xét:** TỈ lệ trên tập `train` khác biệt hoàn toàn đối với tập `valid`. \n",
    "- Theo kinh nghiệm của em, phân lớp bằng cây rất dễ bị hiện tượng `overfitting`, dễ thấy, tỉ lệ ở tập `train` đều đạt điểm tuyệt đối. \n",
    "- Đối với tỉ lệ tập `valid`, việc số `features` càng giảm thì có vẻ tỉ lệ khớp càng nhỏ đi. Với trường hợp `max_feautures == None`, ta thấy có giá trị khác rõ với các tham số còn lại. Có vẻ đây là dấu hiệu của việc khớp khá khít. "
   ]
  },
  {
   "cell_type": "markdown",
   "id": "9342bd51-1aee-47ce-bd3f-3bd4610f2ef9",
   "metadata": {},
   "source": [
    "---"
   ]
  }
 ],
 "metadata": {
  "kernelspec": {
   "display_name": "Python 3 (ipykernel)",
   "language": "python",
   "name": "python3"
  },
  "language_info": {
   "codemirror_mode": {
    "name": "ipython",
    "version": 3
   },
   "file_extension": ".py",
   "mimetype": "text/x-python",
   "name": "python",
   "nbconvert_exporter": "python",
   "pygments_lexer": "ipython3",
   "version": "3.8.8"
  },
  "toc-autonumbering": true
 },
 "nbformat": 4,
 "nbformat_minor": 5
}
